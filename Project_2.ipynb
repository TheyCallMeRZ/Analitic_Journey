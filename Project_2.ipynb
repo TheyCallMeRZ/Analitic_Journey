{
 "cells": [
  {
   "cell_type": "code",
   "execution_count": 10,
   "id": "38c854a8-c0c1-4a8c-855f-f1dbd0f087c6",
   "metadata": {},
   "outputs": [],
   "source": [
    "import random"
   ]
  },
  {
   "cell_type": "code",
   "execution_count": 36,
   "id": "30e29d40-ff6b-4230-849b-0d15fb670e63",
   "metadata": {},
   "outputs": [],
   "source": [
    "deck = 4*[2,3,4,5,6,7,8,9,10,'J','Q','K','A']"
   ]
  },
  {
   "cell_type": "code",
   "execution_count": 4,
   "id": "c2869f31-c851-47db-8179-587fd418614b",
   "metadata": {},
   "outputs": [],
   "source": [
    "value = {2:2,3:3,4:4,5:5,6:6,7:7,8:8,9:9,10:10,'J':10,'Q':10,'K':10,'A':11}"
   ]
  },
  {
   "cell_type": "code",
   "execution_count": 43,
   "id": "37725621-f04d-4849-bb1f-2df894c9d07b",
   "metadata": {},
   "outputs": [
    {
     "name": "stdout",
     "output_type": "stream",
     "text": [
      "Deck is empty\n"
     ]
    }
   ],
   "source": [
    "random.shuffle(deck)\n",
    "for x in range(0,10):\n",
    "    try:\n",
    "        print(deck.pop())\n",
    "    except:\n",
    "        print(\"Deck is empty\")\n",
    "        break"
   ]
  },
  {
   "cell_type": "code",
   "execution_count": null,
   "id": "a82d0adb-c09b-4bcc-8200-4d6bdaee3e8a",
   "metadata": {},
   "outputs": [],
   "source": []
  },
  {
   "cell_type": "code",
   "execution_count": null,
   "id": "d5c8a7f7-13c0-435a-8a9e-1ef6c305154c",
   "metadata": {},
   "outputs": [],
   "source": []
  }
 ],
 "metadata": {
  "kernelspec": {
   "display_name": "Python 3 (ipykernel)",
   "language": "python",
   "name": "python3"
  },
  "language_info": {
   "codemirror_mode": {
    "name": "ipython",
    "version": 3
   },
   "file_extension": ".py",
   "mimetype": "text/x-python",
   "name": "python",
   "nbconvert_exporter": "python",
   "pygments_lexer": "ipython3",
   "version": "3.11.3"
  }
 },
 "nbformat": 4,
 "nbformat_minor": 5
}
