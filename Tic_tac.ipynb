{
 "cells": [
  {
   "cell_type": "code",
   "execution_count": 1,
   "metadata": {},
   "outputs": [],
   "source": [
    "from IPython.display import clear_output"
   ]
  },
  {
   "cell_type": "code",
   "execution_count": 2,
   "metadata": {},
   "outputs": [],
   "source": [
    "def display_board(board):\n",
    "    clear_output()\n",
    "    print(board[7]+ \"|\"+ board[8]+\"|\"+board[9])\n",
    "    print(board[4]+ \"|\"+ board[5]+\"|\"+board[6])\n",
    "    print(board[1]+ \"|\"+ board[2]+\"|\"+board[3])"
   ]
  },
  {
   "cell_type": "code",
   "execution_count": 3,
   "metadata": {},
   "outputs": [],
   "source": [
    "def player_choice():\n",
    "    player_1 = ''\n",
    "    player_2 = ''\n",
    "    while player_1 != 'x' and player_1 !='o':\n",
    "        player_1=input(\"Pick x or o to start play: \")\n",
    "    if player_1=='x':\n",
    "        player_2='o'\n",
    "    else:\n",
    "        player_2='x'\n",
    "        \n",
    "    return (player_1, player_2)"
   ]
  },
  {
   "cell_type": "code",
   "execution_count": 23,
   "metadata": {},
   "outputs": [],
   "source": [
    "def tic_tac():\n",
    "    board = ['#']+[' ']*9\n",
    "    game = True\n",
    "    turn = 0\n",
    "    while game == True:\n",
    "        board = ['#']+[' ']*9\n",
    "        display_board(board)\n",
    "        player_1, player_2 = player_choice()\n",
    "        if player_1=='x':\n",
    "            turn=0\n",
    "        else:\n",
    "            turn=1\n",
    "        \n",
    "        while ' ' in board:\n",
    "            if turn==0:\n",
    "                try:\n",
    "                    coordinate = int(input(\"X turn.\\n\"+ \"Where do you want to place your mark? \"))\n",
    "                except ValueError:\n",
    "                    print('Sorry, input position 1-9.')\n",
    "                    continue\n",
    "                else:\n",
    "                    if board[coordinate]==' ':\n",
    "                        board[coordinate]= 'x'\n",
    "                        display_board(board)\n",
    "                    else:\n",
    "                        coordinate = int(input(\"X turn.\\n\"+ \"Place occupied, try again: \"))\n",
    "                        board[coordinate]= 'x'\n",
    "                        display_board(board)\n",
    "                    turn = 1\n",
    "            else:\n",
    "                try:\n",
    "                    coordinate = int(input(\"O turn.\\n\"+ \"Where do you want to place your mark? \"))\n",
    "                except ValueError:\n",
    "                    print('Sorry, input position 1-9.')\n",
    "                    continue\n",
    "                else: \n",
    "                    if board[coordinate]==' ':\n",
    "                        pass\n",
    "                    else:\n",
    "                        coordinate = int(input(\"O turn.\\n\"+ \"Place occupied, try again: \"))\n",
    "                    board[coordinate]= 'o' \n",
    "                    display_board(board)\n",
    "                    turn = 0\n",
    "            if board[7:10]==['x','x','x'] or board[4:7]==['x','x','x'] or board[1:4]==['x','x','x'] or (board[1]=='x'and board[4]=='x'and board[7]=='x') or (board[2]=='x'and board[5]=='x'and board[8]=='x') or (board[3]=='x'and board[6]=='x'and board[9]=='x')or (board[1]=='x'and board[5]=='x'and board[9]=='x')or (board[3]=='x'and board[5]=='x'and board[7]=='x'):\n",
    "                display_board(board)\n",
    "                print(\"X has won!!!\")\n",
    "                game = False\n",
    "                break\n",
    "            else:\n",
    "                pass\n",
    "            if board[7:10]==['o','o','o'] or board[4:7]==['o','o','o'] or board[1:4]==['o','o','o'] or (board[1]=='o'and board[4]=='o'and board[7]=='o') or (board[2]=='o'and board[5]=='o'and board[8]=='o') or (board[3]=='o'and board[6]=='o'and board[9]=='o')or (board[1]=='o'and board[5]=='o'and board[9]=='o')or (board[3]=='o'and board[5]=='o'and board[7]=='o'):\n",
    "                display_board(board)\n",
    "                print(\"O has won!!!\")\n",
    "                game = False\n",
    "                break\n",
    "            else:\n",
    "                pass\n",
    "            if ' ' not in board:\n",
    "                print(\"Unwinable, try again!\")\n",
    "                game = False\n",
    "                break\n",
    "            \n",
    "        repeat = input(\"Would you like to go again? (y/n) \")\n",
    "        if repeat == 'y':\n",
    "            game= True\n",
    "    "
   ]
  },
  {
   "cell_type": "code",
   "execution_count": 26,
   "metadata": {
    "scrolled": true
   },
   "outputs": [
    {
     "name": "stdout",
     "output_type": "stream",
     "text": [
      "o| | \n",
      "o|x| \n",
      "o| |x\n",
      "O has won!!!\n"
     ]
    },
    {
     "name": "stdin",
     "output_type": "stream",
     "text": [
      "Would you like to go again? (y/n)  n\n"
     ]
    }
   ],
   "source": [
    "tic_tac()"
   ]
  },
  {
   "cell_type": "code",
   "execution_count": null,
   "metadata": {},
   "outputs": [],
   "source": []
  }
 ],
 "metadata": {
  "kernelspec": {
   "display_name": "Python 3 (ipykernel)",
   "language": "python",
   "name": "python3"
  },
  "language_info": {
   "codemirror_mode": {
    "name": "ipython",
    "version": 3
   },
   "file_extension": ".py",
   "mimetype": "text/x-python",
   "name": "python",
   "nbconvert_exporter": "python",
   "pygments_lexer": "ipython3",
   "version": "3.11.3"
  }
 },
 "nbformat": 4,
 "nbformat_minor": 4
}
